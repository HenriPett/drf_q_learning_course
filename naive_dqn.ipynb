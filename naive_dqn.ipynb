{
  "nbformat": 4,
  "nbformat_minor": 0,
  "metadata": {
    "colab": {
      "provenance": [],
      "gpuType": "T4"
    },
    "kernelspec": {
      "name": "python3",
      "display_name": "Python 3"
    },
    "language_info": {
      "name": "python"
    },
    "accelerator": "GPU"
  },
  "cells": [
    {
      "cell_type": "code",
      "source": [
        "!pip install --quiet gymnasium"
      ],
      "metadata": {
        "colab": {
          "base_uri": "https://localhost:8080/"
        },
        "id": "nkZg5a6c9qf8",
        "outputId": "255e00d1-c645-45e2-cabb-655ea7d273b3"
      },
      "execution_count": null,
      "outputs": [
        {
          "output_type": "stream",
          "name": "stdout",
          "text": [
            "\u001b[?25l     \u001b[90m━━━━━━━━━━━━━━━━━━━━━━━━━━━━━━━━━━━━━━━━\u001b[0m \u001b[32m0.0/925.5 kB\u001b[0m \u001b[31m?\u001b[0m eta \u001b[36m-:--:--\u001b[0m\r\u001b[2K     \u001b[91m━━━━━━━━━━━━━━━\u001b[0m\u001b[91m╸\u001b[0m\u001b[90m━━━━━━━━━━━━━━━━━━━━━━\u001b[0m \u001b[32m389.1/925.5 kB\u001b[0m \u001b[31m11.5 MB/s\u001b[0m eta \u001b[36m0:00:01\u001b[0m\r\u001b[2K     \u001b[90m━━━━━━━━━━━━━━━━━━━━━━━━━━━━━━━━━━━━━━\u001b[0m \u001b[32m925.5/925.5 kB\u001b[0m \u001b[31m16.7 MB/s\u001b[0m eta \u001b[36m0:00:00\u001b[0m\n",
            "\u001b[?25h"
          ]
        }
      ]
    },
    {
      "cell_type": "code",
      "execution_count": null,
      "metadata": {
        "id": "bcMoPMsw07DN"
      },
      "outputs": [],
      "source": [
        "import gymnasium as gym\n",
        "import matplotlib.pyplot as plt\n",
        "import numpy as np\n",
        "import torch.nn as nn\n",
        "import torch.nn.functional as F\n",
        "import torch.optim as optim\n",
        "import torch as T"
      ]
    },
    {
      "cell_type": "code",
      "source": [
        "def plot_learning_curve(x, scores, epsilons, filename):\n",
        "  fig = plt.figure()\n",
        "  ax = fig.add_subplot(111, label='1')\n",
        "  ax2 = fig.add_subplot(111, label='2', frame_on=False)\n",
        "\n",
        "  ax.plot(x, epsilons, color='C0')\n",
        "  ax.set_xlabel('Training steps', color='C0')\n",
        "  ax.set_ylabel('Epsilon', color='C0')\n",
        "  ax.tick_params(axis='x', colors='C0')\n",
        "  ax.tick_params(axis='y', colors='C0')\n",
        "\n",
        "  N = len(scores)\n",
        "  running_avg = np.empty(N)\n",
        "  for t in range(N):\n",
        "    running_avg[t] = np.mean(scores[max(0, t-100): (t+1)])\n",
        "\n",
        "  ax2.scatter(x, running_avg, color='C1')\n",
        "  ax2.axes.get_xaxis().set_visible(False)\n",
        "  ax2.yaxis.tick_right()\n",
        "  ax2.set_ylabel('Score', color='C1')\n",
        "  ax2.yaxis.set_label_position('right')\n",
        "  ax2.tick_params(axis='y', colors='C1')\n",
        "\n",
        "  plt.save(filename)"
      ],
      "metadata": {
        "id": "ac6dnUn4LgBj"
      },
      "execution_count": null,
      "outputs": []
    },
    {
      "cell_type": "code",
      "source": [
        "class Network(nn.Module):\n",
        "  def __init__(self, lr, n_actions, input_dims):\n",
        "    super(Network, self).__init__()\n",
        "\n",
        "    self.fc1 = nn.Linear(*input_dims, 128)\n",
        "    self.fc2 = nn.Linear(128, n_actions)\n",
        "\n",
        "    # self.parameters comes with nn.Module and return all parameters of the network\n",
        "    self.optimizer = optim.Adam(self.parameters(), lr=lr)\n",
        "    self.loss = nn.MSELoss()\n",
        "    self.device = T.device('cuda:0' if T.cuda.is_available() else 'cpu')\n",
        "    self.to(self.device)\n",
        "\n",
        "  def forward(self, state):\n",
        "    layer1 = F.relu(self.fc1(state))\n",
        "    actions = self.fc2(layer1)\n",
        "\n",
        "    return actions"
      ],
      "metadata": {
        "id": "aqSLS5bQ22y5"
      },
      "execution_count": null,
      "outputs": []
    },
    {
      "cell_type": "code",
      "source": [
        "class Agent():\n",
        "    def __init__(self, lr, gamma, input_dims, n_actions, epsilon, eps_end,\n",
        "                 eps_dec):\n",
        "        self.lr = lr\n",
        "        self.gamma = gamma\n",
        "        self.input_dims = input_dims\n",
        "        self.n_actions = n_actions\n",
        "        self.epsilon = epsilon\n",
        "        self.eps_min = eps_end\n",
        "        self.eps_dec = eps_dec\n",
        "        self.action_space = [i for i in range(self.n_actions)]\n",
        "\n",
        "        self.Q = Network(self.lr, self.n_actions, self.input_dims)\n",
        "\n",
        "    # Choose an action based on epsilon greedy\n",
        "    # if epsilon is greater than a random number, it will do a random action.\n",
        "    # A greater epsilon will create more random actions\n",
        "    def choose_action(self, observation):\n",
        "        if np.random.random() > self.epsilon:\n",
        "            state = T.tensor(observation, dtype=T.float).to(self.Q.device)\n",
        "            actions = self.Q.forward(state)\n",
        "            action = T.argmax(actions).item()\n",
        "        else:\n",
        "          action = np.random.choice(self.action_space)\n",
        "\n",
        "        return action\n",
        "\n",
        "    # Linearly decrease epsilon. It's possible to decrease in other ways, like logarithm or exponential\n",
        "    def decrement_epsilon(self):\n",
        "        self.epsilon = self.epsilon - self.eps_dec if self.epsilon>self.eps_min\\\n",
        "                       else self.eps_min\n",
        "\n",
        "    def learn(self, state, action, reward, state_):\n",
        "        self.Q.optimizer.zero_grad()\n",
        "        states = T.tensor(state, dtype=T.float).to(self.Q.device)\n",
        "        actions = T.tensor(action).to(self.Q.device)\n",
        "        rewards = T.tensor(reward).to(self.Q.device)\n",
        "        states_ = T.tensor(state_, dtype=T.float).to(self.Q.device)\n",
        "\n",
        "        q_pred = self.Q.forward(states)[actions]\n",
        "        q_next = self.Q.forward(states_).max()\n",
        "        q_target = reward + self.gamma*q_next\n",
        "\n",
        "        loss = self.Q.loss(q_target, q_pred).to(self.Q.device)\n",
        "        loss.backward()\n",
        "        self.Q.optimizer.step()\n",
        "        self.decrement_epsilon()"
      ],
      "metadata": {
        "id": "s8s744qQ8ZT6"
      },
      "execution_count": null,
      "outputs": []
    },
    {
      "cell_type": "code",
      "source": [
        "env = gym.make('CartPole-v1')\n",
        "\n",
        "agent = Agent(input_dims=env.observation_space.shape,\n",
        "              n_actions=env.action_space.n,\n",
        "              lr=0.001,\n",
        "              gamma=0.99,\n",
        "              epsilon=1.0,\n",
        "              eps_end=0.01,\n",
        "              eps_dec=1e-5)\n",
        "\n",
        "scores = []\n",
        "eps_history = []\n",
        "n_games = 10000\n",
        "\n",
        "for i in range(n_games):\n",
        "  done = False\n",
        "  truncated = False\n",
        "\n",
        "  observation = env.reset()[0]\n",
        "  score = 0\n",
        "\n",
        "  while not done or not truncated:\n",
        "    action = agent.choose_action(observation)\n",
        "    observation_, reward, done, truncated, info = env.step(action)\n",
        "    score += reward\n",
        "    agent.learn(observation, action, reward, observation_)\n",
        "    observation = observation_\n",
        "\n",
        "  scores.append(score)\n",
        "  eps_history.append(agent.epsilon)\n",
        "\n",
        "  if i % 100 == 0:\n",
        "    avg_score = np.mean(scores[-100:])\n",
        "    print(f'\\r episode {i}, score {score}, avg score {avg_score}, epsilon {agent.epsilon}', end='', flush=True)"
      ],
      "metadata": {
        "colab": {
          "base_uri": "https://localhost:8080/"
        },
        "id": "3LrtD77Q9AM7",
        "outputId": "fd969edb-0801-4976-fb18-aba26dc50d33"
      },
      "execution_count": null,
      "outputs": [
        {
          "metadata": {
            "tags": null
          },
          "name": "stderr",
          "output_type": "stream",
          "text": [
            "/usr/local/lib/python3.10/dist-packages/gymnasium/envs/classic_control/cartpole.py:180: UserWarning: \u001b[33mWARN: You are calling 'step()' even though this environment has already returned terminated = True. You should always call 'reset()' once you receive 'terminated = True' -- any further steps are undefined behavior.\u001b[0m\n",
            "  logger.warn(\n"
          ]
        },
        {
          "metadata": {
            "tags": null
          },
          "name": "stdout",
          "output_type": "stream",
          "text": [
            " episode 9700, score 10.0, avg score 9.46, epsilon 0.01"
          ]
        }
      ]
    },
    {
      "cell_type": "code",
      "source": [
        "filename = 'cartpole_naive_dqn.png'\n",
        "x = [i+1 for i in range(n_games)]\n",
        "\n",
        "plot_learning_curve(x, scores, eps_history, filename)"
      ],
      "metadata": {
        "id": "wLrrkGM5JM47"
      },
      "execution_count": null,
      "outputs": []
    }
  ]
}