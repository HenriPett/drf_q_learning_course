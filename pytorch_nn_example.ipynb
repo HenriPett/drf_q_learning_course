{
  "nbformat": 4,
  "nbformat_minor": 0,
  "metadata": {
    "colab": {
      "provenance": []
    },
    "kernelspec": {
      "name": "python3",
      "display_name": "Python 3"
    },
    "language_info": {
      "name": "python"
    }
  },
  "cells": [
    {
      "cell_type": "code",
      "execution_count": 1,
      "metadata": {
        "id": "bcMoPMsw07DN"
      },
      "outputs": [],
      "source": [
        "import torch.nn as nn\n",
        "import torch.nn.functional as F\n",
        "import torch.optim as optim\n",
        "import torch as T"
      ]
    },
    {
      "cell_type": "code",
      "source": [
        "class LinearClassifier(nn.Module):\n",
        "  def __init__(self, lr, n_classes, input_dims):\n",
        "    super(LinearClassifier, self).__init__()\n",
        "\n",
        "    self.fc1 = nn.Linear(*input_dims, 128)\n",
        "    self.fc2 = nn.Linear(128, 256)\n",
        "    self.fc3 = nn.Linear(256, n_classes)\n",
        "\n",
        "    # self.parameters comes with nn.Module\n",
        "    self.optimizer = optim.Adam(self.parameters(), lr=lr)\n",
        "    self.loss = nn.CrossEntropyLoss() #better use nn.MSELoss\n",
        "    self.device = T.device('cuda:0' if T.cuda.is_available() else 'cpu')\n",
        "    self.to(self.device)\n",
        "\n",
        "  def forward(self, data):\n",
        "    layer1 = F.sigmoid(self.fc1(data))\n",
        "    layer2 = F.sigmoid(self.fc2(layer1))\n",
        "    layer3 = self.fc3(layer2)\n",
        "\n",
        "    return layer3\n",
        "\n",
        "  def learn(self, data, labels):\n",
        "    self.optimizer.zero_grad()\n",
        "    data = T.tensor(data).to(self.device) #Theres also T.Tensor (capital T), the T.tensor (lower case) preserves the data type of the source\n",
        "    labels = T.tensor(labels).to(self.device)\n",
        "\n",
        "    predictions = self.forward(data)\n",
        "\n",
        "    cost = self.loss(predictions, labels)\n",
        "\n",
        "    cost.backward()\n",
        "    self.optimizer.step()"
      ],
      "metadata": {
        "id": "aqSLS5bQ22y5"
      },
      "execution_count": null,
      "outputs": []
    }
  ]
}